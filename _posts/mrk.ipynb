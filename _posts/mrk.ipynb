{
 "cells": [
  {
   "cell_type": "markdown",
   "metadata": {},
   "source": [
    "## 1) Hypothesis Function, Cost Function, Gradients, Thetas/Weights for Simple Linear Regression\n",
    "\n",
    "*Hypothesis Function* \n",
    "$$\n",
    "h_\\theta(x) = \\theta_0 + \\theta_1x\n",
    "$$\n",
    "\n",
    "*Cost Function*\n",
    "$$\n",
    "J(\\theta_0,\\theta_1) = \\frac{1}{2m}(\\sum^m_{i=1}(\\hat{y_i} - y)^2) = \\frac{1}{2m}(\\sum^m_{i=1}(\\hat{y_i} - y)^2)\n",
    "$$\n",
    "*Updating weights - Gradient Descent Algorithm*\n",
    "$$\n",
    "\\theta_j := \\theta_j - \\alpha\\frac{\\partial}{\\partial\\theta_j}J(\\theta_0,\\theta_1)\n",
    "$$\n",
    "  repeat until convergence {\n",
    "$$\n",
    "  \\theta_0:= \\theta_0-\\alpha\\frac{1}{m}\\sum^m_{i=1}(h_\\theta(x_i)-y_i)\n",
    "$$\n",
    "\n",
    "$$\n",
    "  \\theta_1:= \\theta_1-\\alpha\\frac{1}{m}\\sum^m_{i=1}((h_\\theta(x_i)-y_i)x_i)\n",
    "$$\n",
    "\n",
    "  ​                                            }"
   ]
  }
 ],
 "metadata": {
  "kernelspec": {
   "display_name": "Python 3",
   "language": "python",
   "name": "python3"
  },
  "language_info": {
   "codemirror_mode": {
    "name": "ipython",
    "version": 3
   },
   "file_extension": ".py",
   "mimetype": "text/x-python",
   "name": "python",
   "nbconvert_exporter": "python",
   "pygments_lexer": "ipython3",
   "version": "3.7.7"
  }
 },
 "nbformat": 4,
 "nbformat_minor": 4
}
